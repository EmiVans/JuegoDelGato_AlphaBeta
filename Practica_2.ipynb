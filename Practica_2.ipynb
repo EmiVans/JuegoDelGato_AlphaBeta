{
  "nbformat": 4,
  "nbformat_minor": 0,
  "metadata": {
    "colab": {
      "private_outputs": true,
      "provenance": [],
      "collapsed_sections": [
        "9Un5SZKHiyq4",
        "wFtEwhDx99RB",
        "R72HytJYDl2I",
        "gbDzIzaaD2K1"
      ]
    },
    "kernelspec": {
      "name": "python3",
      "display_name": "Python 3"
    },
    "language_info": {
      "name": "python"
    }
  },
  "cells": [
    {
      "cell_type": "markdown",
      "source": [
        "## Práctica 2 IA\n",
        "\n",
        "Brandon Imanol Regalado Urbina\n",
        "\n",
        "Vazquez Amador Daniel Emiliano\n",
        "\n",
        "Arroyo Lozano Santiago\n",
        "\n",
        "Valencia Cruz Jonathan Josué\n",
        "\n",
        "Luis Gerardo Estrada García"
      ],
      "metadata": {
        "id": "PysHO0yl19fw"
      }
    },
    {
      "cell_type": "markdown",
      "source": [
        "1. Programa el algoritmo de α−β aplicado al problema del juego del gato. Realiza lo siguiente:\n",
        "\n",
        "a) Construye el juego del gato con jugador MAX con tiradas \"x\" y jugador MIN con tiradas \"o\". La funcion de utilidad dada como:\n",
        "\n",
        "f(x) =\n",
        "\\begin{cases}\n",
        "    +1 & \\text{si Max gana}\\\\\n",
        "    0 & \\text{si hay empate}\\\\\n",
        "    -1 & \\text{si Min gana}\n",
        "\\end{cases}\n"
      ],
      "metadata": {
        "id": "j7mA7k0iRzFW"
      }
    },
    {
      "cell_type": "markdown",
      "source": [
        "Primero creamos algunas funciones para el juego \"Gato\":"
      ],
      "metadata": {
        "id": "iHf7qY9xRxuY"
      }
    },
    {
      "cell_type": "code",
      "source": [
        "#Crea el tablero donde se jugara el jutgo\n",
        "def Gato():\n",
        "     return [[' ' for _ in range(3)] for _ in range(3)]\n",
        "\n",
        "#Funcion que imprime el tablero\n",
        "def tablero(tablero):\n",
        "     for row in tablero:\n",
        "            print('|'.join(row))\n",
        "            print()\n",
        "\n",
        "#Funcion para mover una pieza en el tablero\n",
        "def resultado(tablero, jugada, player):\n",
        "    #Si hay movimientos entonces se uede tirar\n",
        "    if not is_final(tablero):\n",
        "      #Si el espacio esta disponible se puede tirar ahi\n",
        "      if tablero[jugada[0]][jugada[1]] == \" \":\n",
        "              if player == 1:\n",
        "                  tablero[jugada[0]][jugada[1]] = \"X\"\n",
        "                  return tablero\n",
        "              elif player == 2:\n",
        "                  tablero[jugada[0]][jugada[1]] = \"O\"\n",
        "                  return tablero\n",
        "      else:\n",
        "        return tablero\n",
        "\n",
        "#Regresa la utilidad del tablero\n",
        "def utility(tablero):\n",
        "    # Verificar filas\n",
        "    for fila in tablero:\n",
        "        if fila[0] == fila[1] == fila[2] and fila[0] != ' ':\n",
        "          if fila[0]==\"X\":\n",
        "            return 1\n",
        "          else:\n",
        "            return -1\n",
        "    # Verificar columnas\n",
        "    for i in range(3):\n",
        "        if tablero[0][i] == tablero[1][i] == tablero[2][i] and tablero[0][i] != ' ':\n",
        "          if fila[0]==\"X\":\n",
        "            return 1\n",
        "          else:\n",
        "            return -1\n",
        "\n",
        "    # Verificar diagonales\n",
        "    if tablero[0][0] == tablero[1][1] == tablero[2][2] and tablero[0][0] != ' ':\n",
        "        if tablero[0][0]==\"X\":\n",
        "          return 1\n",
        "        else:\n",
        "          return -1\n",
        "    if tablero[0][2] == tablero[1][1] == tablero[2][0] and tablero[0][2] != ' ':\n",
        "        if tablero[0][2]==\"X\":\n",
        "          return 1\n",
        "        else:\n",
        "          return -1\n",
        "\n",
        "    # Si no hay ganador, es un empate\n",
        "    for fila in tablero:\n",
        "        if ' ' in fila:\n",
        "            return None\n",
        "    return 'Empate'\n",
        "\n",
        "#Revisa si estamos en un estado final\n",
        "def is_final(tablero):\n",
        "    return utility(tablero) is not None or all(' ' not in fila for fila in tablero)"
      ],
      "metadata": {
        "id": "6VkEFw4ZkR6-"
      },
      "execution_count": null,
      "outputs": []
    },
    {
      "cell_type": "markdown",
      "source": [
        "Hacemos el algoritmo α-β."
      ],
      "metadata": {
        "id": "d75RKWHllNf6"
      }
    },
    {
      "cell_type": "code",
      "source": [
        "#Nos devuelve la el mejor o peor valor, dado sea el caso\n",
        "def alpha_beta(tablero, jugador, alpha, beta):\n",
        "    resultado = utility(tablero)\n",
        "    if resultado == 1:  # Si gana el jugador \"X\", devuelve 1\n",
        "        return 1\n",
        "    elif resultado == -1:  # Si el jugador 3, devuelve -1\n",
        "        return -1\n",
        "    elif resultado == 'Empate':  # Si hay un empate, devuelve 0\n",
        "        return 0\n",
        "\n",
        "    if jugador == 1:  # Si es el turno del jugador 1\n",
        "        mejor_valor = float('-inf')  # Inicializa mejor_valor como negativo infinito\n",
        "        for i in range(3):\n",
        "            for j in range(3):\n",
        "                if tablero[i][j] == ' ':\n",
        "                    tablero[i][j] = jugador  # Realiza el movimiento\n",
        "                    valor = alpha_beta(tablero, 2, alpha, beta)  # Llama recursivamente con el turno del jugador 2\n",
        "                    tablero[i][j] = ' '  # Deshace el movimiento\n",
        "                    mejor_valor = max(mejor_valor, valor)  # Actualiza el mejor valor encontrado\n",
        "                    alpha = max(alpha, mejor_valor)  # Actualiza el valor de alpha\n",
        "                    if beta <= alpha:  # Podar si beta es menor o igual a alpha\n",
        "                        break\n",
        "        return mejor_valor\n",
        "\n",
        "    else:  # Si es el turno del jugador 2\n",
        "        mejor_valor = float('inf')  # Inicializa mejor_valor como positivo infinito\n",
        "        for i in range(3):\n",
        "            for j in range(3):\n",
        "                if tablero[i][j] == ' ':\n",
        "                    tablero[i][j] = jugador  # Realiza el movimiento\n",
        "                    valor = alpha_beta(tablero, 1, alpha, beta)  # Llama recursivamente con el turno del jugador 1\n",
        "                    tablero[i][j] = ' '  # Deshace el movimiento\n",
        "                    mejor_valor = min(mejor_valor, valor)  # Actualiza el mejor valor encontrado\n",
        "                    beta = min(beta, mejor_valor)  # Actualiza el valor de beta\n",
        "                    if beta <= alpha:  # Podar si beta es menor o igual a alpha\n",
        "                        break\n",
        "        return mejor_valor\n",
        "\n",
        "def mejor_movimiento(tablero,player):\n",
        "  if player==1:\n",
        "      mejor_valor = float('-inf')  # Inicializa el mejor valor como negativo infinito\n",
        "      mejor_movimiento = None  # Inicializa el mejor movimiento como None\n",
        "      for i in range(3):\n",
        "          for j in range(3):\n",
        "              if tablero[i][j] == ' ':\n",
        "                  tablero[i][j] = 'X'  # Prueba un movimiento para el jugador 1\n",
        "                  valor = alpha_beta(tablero,2, float('-inf'), float('inf'))  # Obtiene el valor con alpha-beta\n",
        "                  tablero[i][j] = ' '  # Deshace el movimiento\n",
        "                  if valor > mejor_valor:  # Actualiza el mejor valor y movimiento si se encuentra un valor mejor\n",
        "                      mejor_valor = valor\n",
        "                      mejor_movimiento = (i, j)\n",
        "      return mejor_movimiento\n",
        "  else:\n",
        "      mejor_valor = float('inf')  # Inicializa el mejor valor como infinito\n",
        "      mejor_movimiento = None  # Inicializa el mejor movimiento como None\n",
        "      for i in range(3):\n",
        "          for j in range(3):\n",
        "              if tablero[i][j] == ' ':\n",
        "                  tablero[i][j] = 'O'  # Prueba un movimiento para el jugador 2\n",
        "                  valor = alpha_beta(tablero,1 , float('-inf'), float('inf'))  # Obtiene el valor con alpha-beta\n",
        "                  tablero[i][j] = ' '  # Deshace el movimiento\n",
        "                  if valor < mejor_valor:  # Actualiza el mejor valor y movimiento si se encuentra un valor mejor\n",
        "                      mejor_valor = valor\n",
        "                      mejor_movimiento = (i, j)\n",
        "      return mejor_movimiento"
      ],
      "metadata": {
        "id": "WHqUyYMnlTj8"
      },
      "execution_count": null,
      "outputs": []
    },
    {
      "cell_type": "markdown",
      "source": [
        "b) Genera la funcion para α-β y estima los valores y acciones para los siguientes estados (en todos los casos TO-MOVE = MAX):\n"
      ],
      "metadata": {
        "id": "zwTPsKpF86K0"
      }
    },
    {
      "cell_type": "markdown",
      "source": [
        "a)\n",
        "\\begin{array}{|c|c|c|}\n",
        "  \\hline\n",
        "  o &   & x \\\\\n",
        "  \\hline\n",
        "  x   & o &   \\\\\n",
        "  \\hline\n",
        "     &   &   \\\\\n",
        "  \\hline\n",
        "\\end{array}\n"
      ],
      "metadata": {
        "id": "8zgPHF7q9TXi"
      }
    },
    {
      "cell_type": "code",
      "source": [
        "gato1 = Gato()\n",
        "resultado(gato1,(1,0),1)\n",
        "resultado(gato1,(0,0),2)\n",
        "resultado(gato1,(0,2),1)\n",
        "resultado(gato1,(1,1),2)\n",
        "tablero(gato1)\n",
        "jugadas=[]\n",
        "while not is_final(gato1):\n",
        "    mov_1=mejor_movimiento(gato1,1)\n",
        "    jugadas = jugadas+[\"Jugador 1: \"+str(mov_1)]\n",
        "    resultado(gato1,(mov_1[0],mov_1[1]),1)\n",
        "\n",
        "    mov_2=mejor_movimiento(gato1,2)\n",
        "    jugadas = jugadas+[\"jugador 2: \"+str(mov_2)]\n",
        "    resultado(gato1,(mov_2[0],mov_2[1]),2)\n",
        "\n",
        "tablero(gato1)\n",
        "print(\"Los movimientos son: \"+str(jugadas))\n",
        "print(\"El valor para este estado es: \"+str(utility(gato1)))"
      ],
      "metadata": {
        "id": "lQy6_ay6mbyv"
      },
      "execution_count": null,
      "outputs": []
    },
    {
      "cell_type": "markdown",
      "source": [
        "b) \\begin{array}{|c|c|c|}\n",
        "  \\hline\n",
        "  x &  & o \\\\\n",
        "  \\hline\n",
        "    & x& o  \\\\\n",
        "  \\hline\n",
        "    &  &   \\\\\n",
        "  \\hline\n",
        "\\end{array}\n"
      ],
      "metadata": {
        "id": "VZfWmKbgBfmY"
      }
    },
    {
      "cell_type": "code",
      "source": [
        "gato2 = Gato()\n",
        "resultado(gato2,(0,0),1)\n",
        "resultado(gato2,(0,1),2)\n",
        "resultado(gato2,(1,1),1)\n",
        "resultado(gato2,(1,2),2)\n",
        "tablero(gato2)\n",
        "jugadas=[]\n",
        "while not is_final(gato2):\n",
        "    mov_1=mejor_movimiento(gato2,1)\n",
        "    jugadas = jugadas+[\"Jugador 1: \"+str(mov_1)]\n",
        "    resultado(gato2,(mov_1[0],mov_1[1]),1)\n",
        "\n",
        "    mov_2=mejor_movimiento(gato2,2)\n",
        "    jugadas = jugadas+[\"jugador 2: \"+str(mov_2)]\n",
        "    resultado(gato2,(mov_2[0],mov_2[1]),2)\n",
        "\n",
        "tablero(gato2)\n",
        "print(\"Los movimientos son: \"+str(jugadas))\n",
        "print(\"El valor para este estado es: \"+str(utility(gato2)))"
      ],
      "metadata": {
        "id": "DlG8yDKnmnSW"
      },
      "execution_count": null,
      "outputs": []
    },
    {
      "cell_type": "markdown",
      "source": [
        "c) \\begin{array}{|c|c|c|}\n",
        "  \\hline\n",
        "   & x &   \\\\\n",
        "  \\hline\n",
        "   x &  &   \\\\\n",
        "  \\hline\n",
        "    & o &  \\\\\n",
        "  \\hline\n",
        "\\end{array}"
      ],
      "metadata": {
        "id": "YqCZzsDfFE8v"
      }
    },
    {
      "cell_type": "code",
      "source": [
        "gato3 = Gato()\n",
        "resultado(gato3,(0,1),1)\n",
        "resultado(gato3,(2,1),2)\n",
        "resultado(gato3,(1,0),1)\n",
        "tablero(gato3)\n",
        "jugadas=[]\n",
        "while not is_final(gato3):\n",
        "    mov_1=mejor_movimiento(gato3,1)\n",
        "    jugadas = jugadas+[\"Jugador 1: \"+str(mov_1)]\n",
        "    resultado(gato3,(mov_1[0],mov_1[1]),1)\n",
        "\n",
        "    mov_2=mejor_movimiento(gato3,2)\n",
        "    jugadas = jugadas+[\"jugador 2: \"+str(mov_2)]\n",
        "    resultado(gato3,(mov_2[0],mov_2[1]),2)\n",
        "\n",
        "tablero(gato3)\n",
        "print(\"Los movimientos son: \"+str(jugadas))\n",
        "print(\"El valor para este estado es: \"+str(utility(gato3)))"
      ],
      "metadata": {
        "id": "vYIla9_wmwnG"
      },
      "execution_count": null,
      "outputs": []
    },
    {
      "cell_type": "markdown",
      "source": [
        "d) \\begin{array}{|c|c|c|}\n",
        "  \\hline\n",
        "   &  &   \\\\\n",
        "  \\hline\n",
        "   & x &   \\\\\n",
        "  \\hline\n",
        "  &  & o \\\\\n",
        "  \\hline\n",
        "\\end{array}"
      ],
      "metadata": {
        "id": "bDrIsE1QGm9u"
      }
    },
    {
      "cell_type": "code",
      "source": [
        "gato4 = Gato()\n",
        "resultado(gato4,(1,1),1)\n",
        "resultado(gato4,(2,2),2)\n",
        "tablero(gato4)\n",
        "jugadas=[]\n",
        "while not is_final(gato4):\n",
        "    mov_1=mejor_movimiento(gato4,1)\n",
        "    jugadas = jugadas+[\"Jugador 1: \"+str(mov_1)]\n",
        "    resultado(gato4,(mov_1[0],mov_1[1]),1)\n",
        "\n",
        "    mov_2=mejor_movimiento(gato4,2)\n",
        "    jugadas = jugadas+[\"jugador 2: \"+str(mov_2)]\n",
        "    resultado(gato4,(mov_2[0],mov_2[1]),2)\n",
        "\n",
        "tablero(gato4)\n",
        "print(\"Los movimientos son: \"+str(jugadas))\n",
        "print(\"El valor para este estado es: \"+str(utility(gato4)))\n"
      ],
      "metadata": {
        "id": "pInETiepm8tX"
      },
      "execution_count": null,
      "outputs": []
    },
    {
      "cell_type": "markdown",
      "source": [
        "2. Programa un algoritmo genetico para el problema de las n reinas. Sigue los siguientes pasos:\n"
      ],
      "metadata": {
        "id": "j4CE-fuuidMr"
      }
    },
    {
      "cell_type": "markdown",
      "source": [
        "##### a) Construye el problema de las n reinas donde se colocan n piezas reinas en un tablero de ajedrez de tamaño nxn. La posicion inicial de las reinas es aleatoria.\n"
      ],
      "metadata": {
        "id": "9Un5SZKHiyq4"
      }
    },
    {
      "cell_type": "code",
      "source": [
        "import numpy as np\n",
        "import matplotlib.pyplot as plt\n",
        "\n",
        "np.random.seed(123)\n",
        "\n",
        "class Board():\n",
        "    def __init__(self, size=8):\n",
        "        #Tamaño del tablero\n",
        "        self.size = size\n",
        "        #Piezas en el tablero\n",
        "        get_row = lambda size, shift: [{\"type\": (cell_index + shift) % 2, \"piece\": None}\n",
        "                                       for cell_index in range(size)]\n",
        "        self.board = [get_row(self.size, _ % 2) for _ in range(self.size)]\n",
        "        self.queen_board = np.zeros((size, size))\n",
        "\n",
        "    def __str__(self):\n",
        "        return str([[cell[\"type\"] if cell[\"piece\"]==None else cell[\"piece\"] for cell in row] for row in self.board])\n",
        "\n",
        "    def put(self, piece: str, cell: tuple) -> bool:\n",
        "        \"\"\"Coloca una pieza en una configuración del tablero\"\"\"\n",
        "        row, column = cell\n",
        "        row = row % self.size #Para que considere el caso cuando son mas de 8 reinas\n",
        "        column = column % self.size\n",
        "        self.board[row][column]['piece'] = piece\n",
        "\n",
        "    def create_array(self):\n",
        "        \"\"\"Crea una matriz con la información del tablero\"\"\"\n",
        "        self.queen_board = np.zeros((self.size, self.size))\n",
        "        for i,row in enumerate(self.board):\n",
        "            for j in range(self.size):\n",
        "                if row[j]['piece'] == 'Q':\n",
        "                    self.queen_board[i][j] = 1\n",
        "\n",
        "    def put_pieces(self, num=8, piece='Q'):\n",
        "          elements = range(self.size)\n",
        "          for _ in range(num):\n",
        "              row, column = np.random.choice(elements), np.random.choice(elements)\n",
        "              # Verifica si hay una reina en la posición generada\n",
        "              if self.board[row][column]['piece'] is None:\n",
        "                  self.put(piece=piece, cell=(row, column))\n",
        "              else:\n",
        "                  # Si la posición está ocupada, intentar con otra posición, de esta manera consideramos el problema de n reinas\n",
        "                  continue\n",
        "          self.create_array()\n",
        "\n",
        "\n",
        "    def move(self, i,j):\n",
        "        \"\"\"Acción de mover una pieza\"\"\"\n",
        "        s_p = self.board[i][j]\n",
        "        if s_p['piece'] != 'Q':\n",
        "            pass\n",
        "        else:\n",
        "            m,n = np.random.choice(range(self.size)), np.random.choice(range(self.size))\n",
        "            s_q = self.board[m][n]\n",
        "            if s_q['piece'] != 'Q':\n",
        "                self.board[i][j]['piece'] = None\n",
        "                self.queen_board[i][j] = 0\n",
        "                self.board[m][n]['piece'] = 'Q'\n",
        "                self.queen_board[m][n] = 1\n",
        "            else:\n",
        "                self.move(i,j)\n",
        "\n",
        "    def draw(self):\n",
        "        \"\"\"Dibuja el tablero\"\"\"\n",
        "        img_board = np.array([[cell[\"type\"] if cell[\"piece\"]==None else 0.5 for cell in row] for row in self.board])\n",
        "        plt.imshow(img_board, cmap='Greys')\n",
        "        plt.axis('off')\n",
        "        plt.show()"
      ],
      "metadata": {
        "id": "pIvYI3ThjzNC"
      },
      "execution_count": null,
      "outputs": []
    },
    {
      "cell_type": "markdown",
      "source": [
        "##### b) Define la funcion fitness como el negativo del total de reinas que se están amenazando entre sı. El valor\n",
        "maximo debe ser 0."
      ],
      "metadata": {
        "id": "vk7wLCAwmute"
      }
    },
    {
      "cell_type": "code",
      "source": [
        "## Funciones Auxiliares para generar problación, obtener puntajes y tableros\n",
        "\n",
        "def get_population(s=7, reinas=8):\n",
        "    \"\"\"Genera una población de genes de tamaño s\"\"\"\n",
        "    population = []\n",
        "    for i in range(s):  #Cada iteración se genera una \"realización\" del tablero\n",
        "        population.append(np.random.choice(8, size=reinas, replace=True)+1) #Solo valido para <=8\n",
        "    return population  #Una lista con s tableros, c/u con 8 reinas colocadas pi=j dice la reina del renglón i está en la colunma j\n",
        "\n",
        "\n",
        "def get_scores(population, fitness_function):\n",
        "    \"\"\"Obtiene probabilidades a partir de la función fitness\"\"\"\n",
        "    partition = 0\n",
        "    probs = np.zeros(len(population))\n",
        "    for i, subject in enumerate(population):\n",
        "        score = fitness_function(subject)  #Calculamos el fitness de cada gen\n",
        "        exp = np.exp(score)\n",
        "        probs[i] = exp\n",
        "        partition += exp\n",
        "\n",
        "    return probs/partition #Asignamos una probabilidad en funcion del fitness a cada individuo de la población\n",
        "\n",
        "def get_board(array):\n",
        "    \"\"\"Dibuja la solución a partir de los genes\"\"\"\n",
        "    new_board = Board(size=8)\n",
        "    for x,y in enumerate(array):\n",
        "        new_board.put(piece='Q', cell=(x,y-1))\n",
        "\n",
        "    return new_board"
      ],
      "metadata": {
        "id": "bbjNsbKhm6dn"
      },
      "execution_count": null,
      "outputs": []
    },
    {
      "cell_type": "code",
      "source": [
        "def fitness(array, s = 10):\n",
        "    \"\"\"Función fitness para el problema de 10 reinas\"\"\"\n",
        "    matrix = np.zeros((s,s))\n",
        "    for i,j in enumerate(array):\n",
        "        matrix[i,j-1] = 1\n",
        "\n",
        "    err = 0\n",
        "    queens = np.stack(np.where(matrix == 1)).T\n",
        "    for i,j in queens:\n",
        "        for k in range(1,s+1):\n",
        "            #Revisa la diagonal\n",
        "            if i+k<s and j+k<s:\n",
        "                if [i+k,j+k] in queens.tolist():\n",
        "                    err += 1\n",
        "            if i-k>=0 and j-k>=0:\n",
        "                if [i-k,j-k] in queens.tolist():\n",
        "                    err += 1\n",
        "            if i-k>=0 and j+k<s:\n",
        "                if matrix[i-k, j+k] ==1:\n",
        "                    err += 1\n",
        "            if i+k<s and j-k>=0:\n",
        "                if matrix[i+k, j-k] ==1:\n",
        "                    err += 1\n",
        "\n",
        "            #Revisa las columnas\n",
        "            if i+k<s:\n",
        "                if matrix[i+k,j]== 1:\n",
        "                    err += 1\n",
        "            if i-k >= 0:\n",
        "                if matrix[i-k,j]== 1:\n",
        "                    err += 1\n",
        "\n",
        "            #Revisa los renglones\n",
        "            if j+k<s:\n",
        "                if matrix[i,j+k]== 1:\n",
        "                    err += 1\n",
        "            if j-k >= 0:\n",
        "                if matrix[i,j-k]== 1:\n",
        "                    err += 1\n",
        "    return -err"
      ],
      "metadata": {
        "id": "WGL_n4unvez9"
      },
      "execution_count": null,
      "outputs": []
    },
    {
      "cell_type": "markdown",
      "source": [
        "##### c) Define la funcion de seleccion con los siguientes metodos: Ruleta, Aleatorio y Ranking"
      ],
      "metadata": {
        "id": "ihT7MSiI0c_w"
      }
    },
    {
      "cell_type": "code",
      "source": [
        "def selection(population, weights, size=2, method='Roulette'): #Seleccionamos aleatoriamente dos inviduos de la poblaci+on\n",
        "    \"\"\"Función de selección\"\"\"\n",
        "    if method == 'Roulette':\n",
        "        idx1, idx2 = np.random.choice(range(len(population)), replace=False, size=size, p=weights)\n",
        "        return population[idx1], population[idx2]\n",
        "    elif method == 'Random':\n",
        "        idx1, idx2 = np.random.choice(range(len(population)), replace=False, size=size)\n",
        "        return population[idx1], population[idx2]\n",
        "    elif method ==  'Ranking':\n",
        "        fitness_values = np.array(fitness(population)) #Calculamos el fitness de cada tablero\n",
        "        idx_sorted = np.argsort(fitness_values)[::-1] #Ordenamos para tomar los 2 indices con mayor valor\n",
        "        idx1, idx2 = idx_sorted[:2]\n",
        "        return population[idx1], population[idx2]"
      ],
      "metadata": {
        "id": "SPmN-0cY2RSI"
      },
      "execution_count": null,
      "outputs": []
    },
    {
      "cell_type": "markdown",
      "source": [
        "##### d) Define la funcion de reproduccion con los siguientes metodos: 1 punto, n puntos, uniforme"
      ],
      "metadata": {
        "id": "wFtEwhDx99RB"
      }
    },
    {
      "cell_type": "code",
      "source": [
        "def reproduce(parent1, parent2, method = '1', puntos = 10):\n",
        "    \"\"\"Función de reproducción\"\"\"\n",
        "    if method == '1':\n",
        "      n = len(parent1)\n",
        "      c = np.random.choice(range(n))\n",
        "      return np.hstack((parent1[:c], parent2[c:])) #Seleccionamos un punto al azar y combinamos la mitad del padre 1 hasta ese punto con la mitad del padre 2 después de ese punto\n",
        "    elif  method == 'n': #Generalizamos el caso anterior para n puntos\n",
        "      l = len(parent1)\n",
        "      c = np.random.choice(range(l), size=puntos, replace=True)\n",
        "      child = np.empty_like(parent1)\n",
        "      mask = np.zeros(l, dtype=bool)\n",
        "      mask[c] = True\n",
        "      child[mask] = parent1[mask]\n",
        "      child[~mask] = parent2[~mask]\n",
        "      return child\n",
        "    elif method == 'Unif' : #Generamos una mascara con dist unif y operamos\n",
        "      n = len(parent1)\n",
        "      mask = np.random.randint(0,2, size=n)\n",
        "      return parent1*mask + (1-mask)*parent2\n"
      ],
      "metadata": {
        "id": "yW2HbKTm-vHr"
      },
      "execution_count": null,
      "outputs": []
    },
    {
      "cell_type": "markdown",
      "source": [
        "##### e) Define la funcion de mutacion con los siguientes metodos: Flippin, intercambio y reverso"
      ],
      "metadata": {
        "id": "R72HytJYDl2I"
      }
    },
    {
      "cell_type": "code",
      "source": [
        "\n",
        "def mutate(array,p=0.5, method='Intercambio'):\n",
        "    \"\"\"Función de mutación\"\"\"\n",
        "    if method == 'Flipping':\n",
        "        n = len(array)\n",
        "        mask = np.random.randint(0,2, size=n) #Generamos una mascara aleaotria de 1 y 0\n",
        "        for i in mask:\n",
        "          if mask[i] == 1:\n",
        "                array[i] = np.random.randint(1, 9) #La mascara nos indica los valores a cambiar y los cambiamos aleatoriamente\n",
        "        return array\n",
        "    elif method == 'Intercambio': #Cambiamos el lugar de dos genes\n",
        "        v1, v2 = np.random.choice(range(len(array)), size=2)\n",
        "        c1 = array[v1]\n",
        "        c2 = array[v2]\n",
        "        array[v1] = c2\n",
        "        array[v2] = c1\n",
        "        return array\n",
        "    elif method == 'Reverso' :\n",
        "        return array[::-1] #Solo volteamos el arreglo"
      ],
      "metadata": {
        "id": "1DjHjM1pDwM6"
      },
      "execution_count": null,
      "outputs": []
    },
    {
      "cell_type": "markdown",
      "source": [
        "##### f) Use remplazamiento débil"
      ],
      "metadata": {
        "id": "gbDzIzaaD2K1"
      }
    },
    {
      "cell_type": "code",
      "source": [
        "def replacement(candidates, fitness_function=fitness):\n",
        "    \"\"\"Función de reemplazo\"\"\"\n",
        "    sorted_candidates = sorted([(ind, fitness_function(ind)) for ind in candidates], key=lambda x: x[1])\n",
        "\n",
        "    return sorted_candidates[-1][0]"
      ],
      "metadata": {
        "id": "bnl0qeosD1m_"
      },
      "execution_count": null,
      "outputs": []
    },
    {
      "cell_type": "markdown",
      "source": [
        "### g) Evalua el algoritmo genetico sobre el problema de las 10 reinas, tomando en cuenta:\n",
        "\n",
        "1) El tamano de la poblacion debe ser de 8.\n",
        "\n",
        "2) Se correra el algoritmo un maximo de 10 iteraciones.\n",
        "\n",
        "3) Regresa el valor fitness del candidato mas apto para cada una de las posibles combinaciones de los operadores geneticos."
      ],
      "metadata": {
        "id": "fSxnw19DEAUW"
      }
    },
    {
      "cell_type": "code",
      "source": [
        "def genetic_algorithm(population, fitness_function=fitness, t=0, iteraciones= 10, selecion = 'Roulette', reproduccion='1', mutacion = 'Intercambio'):\n",
        "    \"\"\"Algoritmo genético\"\"\"\n",
        "    #Obtiene pesos probabilísticos a partir de la función fitness\n",
        "    weights = get_scores(population,fitness_function=fitness_function)\n",
        "    #Guarda población descendiente\n",
        "\n",
        "    population2 = []\n",
        "    for i in range(len(population)):\n",
        "        #Selecciona los padres (selección ruleta)\n",
        "        parent1, parent2 = selection(population, weights, method=selecion)\n",
        "        #Reproduce a partir de los padres\n",
        "        child = reproduce(parent1, parent2, method=reproduccion)\n",
        "        #Muta genes en el hijo\n",
        "        child = mutate(child, method=mutacion)\n",
        "        #Reemplaza por la nueva población con base en el fitness\n",
        "        new_ind = replacement([child,parent1,parent2], fitness_function=fitness_function)\n",
        "        population2.append(new_ind)\n",
        "    if t == iteraciones :\n",
        "        #Si se cumple el criterio de detención, se visualiza la solución\n",
        "        idx = np.argmax([fitness_function(subject) for subject in population2])\n",
        "        get_board(population2[idx]).draw()\n",
        "        print('fitness del candidato final:', fitness_function(population2[idx]))\n",
        "\n",
        "    else:\n",
        "        #En otro caso repite los pasos\n",
        "        genetic_algorithm(population2, fitness_function=fitness_function, t=t+1)"
      ],
      "metadata": {
        "id": "qBrVnH-ED_re"
      },
      "execution_count": null,
      "outputs": []
    },
    {
      "cell_type": "code",
      "source": [
        "np.random.seed(2)\n",
        "\n",
        "poblacion = get_population(17, reinas=8) #Recibe el numero de la población y el número de reinas a colocar\n",
        "genetic_algorithm(poblacion, iteraciones=1000, selecion = 'Random', reproduccion='n', mutacion = 'Intercambio') #Aquí ingresamos la población y los criterios que queremos seguir"
      ],
      "metadata": {
        "id": "ewqBDbrgfUOH"
      },
      "execution_count": null,
      "outputs": []
    }
  ]
}